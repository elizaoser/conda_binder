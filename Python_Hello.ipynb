{
 "cells": [
  {
   "cell_type": "markdown",
   "id": "f6773d7a-762a-4409-9f4d-8e5cf8a49fc4",
   "metadata": {},
   "source": [
    "# My Python script"
   ]
  },
  {
   "cell_type": "code",
   "execution_count": 1,
   "id": "8e2a44b8-8d2c-403d-9ae7-5277dc10fe78",
   "metadata": {
    "tags": []
   },
   "outputs": [
    {
     "name": "stdout",
     "output_type": "stream",
     "text": [
      "Hello World\n"
     ]
    }
   ],
   "source": [
    "print(\"Hello World\")"
   ]
  }
 ],
 "metadata": {
  "kernelspec": {
   "display_name": "Python 3 (ipykernel)",
   "language": "python",
   "name": "python3"
  },
  "language_info": {
   "codemirror_mode": {
    "name": "ipython",
    "version": 3
   },
   "file_extension": ".py",
   "mimetype": "text/x-python",
   "name": "python",
   "nbconvert_exporter": "python",
   "pygments_lexer": "ipython3",
   "version": "3.11.4"
  }
 },
 "nbformat": 4,
 "nbformat_minor": 5
}
