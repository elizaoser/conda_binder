{
 "cells": [
  {
   "cell_type": "markdown",
   "id": "c81ef74a-760c-4f60-975e-a6ac0f3fec6c",
   "metadata": {},
   "source": [
    "# My bash script"
   ]
  },
  {
   "cell_type": "code",
   "execution_count": 1,
   "id": "c5674fd4-a9c7-4926-9d86-11c408a296d8",
   "metadata": {
    "tags": []
   },
   "outputs": [
    {
     "name": "stdout",
     "output_type": "stream",
     "text": [
      "Hello World\n"
     ]
    }
   ],
   "source": [
    "!echo \"Hello World\""
   ]
  }
 ],
 "metadata": {
  "kernelspec": {
   "display_name": "Python 3 (ipykernel)",
   "language": "python",
   "name": "python3"
  },
  "language_info": {
   "codemirror_mode": {
    "name": "ipython",
    "version": 3
   },
   "file_extension": ".py",
   "mimetype": "text/x-python",
   "name": "python",
   "nbconvert_exporter": "python",
   "pygments_lexer": "ipython3",
   "version": "3.11.4"
  }
 },
 "nbformat": 4,
 "nbformat_minor": 5
}
