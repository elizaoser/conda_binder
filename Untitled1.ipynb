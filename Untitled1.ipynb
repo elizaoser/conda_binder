{
 "cells": [
  {
   "cell_type": "markdown",
   "id": "5fa80b9f-771a-4722-818d-1a801ba430fe",
   "metadata": {},
   "source": [
    "# Python Linear Regression Model"
   ]
  },
  {
   "cell_type": "markdown",
   "id": "f03e5003-936d-4f69-a9cf-079eacbbd7ce",
   "metadata": {},
   "source": [
    "# Import pandas, sklearn.linear_model, matplotlib.pyplot"
   ]
  },
  {
   "cell_type": "code",
   "execution_count": null,
   "id": "7327a0aa-3c28-40bb-8635-a499254920a6",
   "metadata": {},
   "outputs": [],
   "source": [
    "import pandas as pd\n",
    "from sklearn.linear_model import LinearRegression\n",
    "import matplotlib.pyplot as plt"
   ]
  }
 ],
 "metadata": {
  "kernelspec": {
   "display_name": "Python 3 (ipykernel)",
   "language": "python",
   "name": "python3"
  },
  "language_info": {
   "codemirror_mode": {
    "name": "ipython",
    "version": 3
   },
   "file_extension": ".py",
   "mimetype": "text/x-python",
   "name": "python",
   "nbconvert_exporter": "python",
   "pygments_lexer": "ipython3",
   "version": "3.11.4"
  }
 },
 "nbformat": 4,
 "nbformat_minor": 5
}
