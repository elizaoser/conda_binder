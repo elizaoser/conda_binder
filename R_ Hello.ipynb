{
 "cells": [
  {
   "cell_type": "markdown",
   "id": "b8742f58-b71f-45fc-9d70-69c5a4168d90",
   "metadata": {},
   "source": [
    "# My R script"
   ]
  },
  {
   "cell_type": "code",
   "execution_count": 1,
   "id": "25518191-bc86-4f73-9984-fdb8dfb96ad0",
   "metadata": {
    "tags": []
   },
   "outputs": [
    {
     "name": "stdout",
     "output_type": "stream",
     "text": [
      "[1] \"Hello World\"\n"
     ]
    }
   ],
   "source": [
    "print(\"Hello World\")"
   ]
  }
 ],
 "metadata": {
  "kernelspec": {
   "display_name": "R",
   "language": "R",
   "name": "ir"
  },
  "language_info": {
   "codemirror_mode": "r",
   "file_extension": ".r",
   "mimetype": "text/x-r-source",
   "name": "R",
   "pygments_lexer": "r",
   "version": "4.0.5"
  }
 },
 "nbformat": 4,
 "nbformat_minor": 5
}
