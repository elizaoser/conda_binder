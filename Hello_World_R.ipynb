{
 "cells": [
  {
   "cell_type": "markdown",
   "id": "086f50d0-0266-4f77-9462-3213a5f2da49",
   "metadata": {},
   "source": [
    "# My wonderful R script that says \"Hello World\" to my amazing professor"
   ]
  },
  {
   "cell_type": "code",
   "execution_count": 1,
   "id": "4fd34f13-827e-48ea-b8ce-5149f22d2fa3",
   "metadata": {
    "tags": []
   },
   "outputs": [
    {
     "name": "stdout",
     "output_type": "stream",
     "text": [
      "[1] \"Hello World\"\n"
     ]
    }
   ],
   "source": [
    "print(\"Hello World\")"
   ]
  },
  {
   "cell_type": "code",
   "execution_count": null,
   "id": "3461410f-43ba-474d-bdf3-38d5883d2311",
   "metadata": {},
   "outputs": [],
   "source": []
  }
 ],
 "metadata": {
  "kernelspec": {
   "display_name": "R",
   "language": "R",
   "name": "ir"
  },
  "language_info": {
   "codemirror_mode": "r",
   "file_extension": ".r",
   "mimetype": "text/x-r-source",
   "name": "R",
   "pygments_lexer": "r",
   "version": "4.0.5"
  }
 },
 "nbformat": 4,
 "nbformat_minor": 5
}
