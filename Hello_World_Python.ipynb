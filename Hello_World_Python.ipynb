{
 "cells": [
  {
   "cell_type": "markdown",
   "id": "56a3427d-415c-483b-9635-ae87d7ddf143",
   "metadata": {
    "tags": []
   },
   "source": [
    "# My wonderful python script that says \"Hello World\" to my amazing professor"
   ]
  },
  {
   "cell_type": "code",
   "execution_count": 2,
   "id": "8f360688-b4e6-406e-b7b8-afc72925b734",
   "metadata": {
    "tags": []
   },
   "outputs": [
    {
     "name": "stdout",
     "output_type": "stream",
     "text": [
      "Hello World\n"
     ]
    }
   ],
   "source": [
    "print(\"Hello World\")"
   ]
  }
 ],
 "metadata": {
  "kernelspec": {
   "display_name": "Python 3 (ipykernel)",
   "language": "python",
   "name": "python3"
  },
  "language_info": {
   "codemirror_mode": {
    "name": "ipython",
    "version": 3
   },
   "file_extension": ".py",
   "mimetype": "text/x-python",
   "name": "python",
   "nbconvert_exporter": "python",
   "pygments_lexer": "ipython3",
   "version": "3.11.4"
  }
 },
 "nbformat": 4,
 "nbformat_minor": 5
}
